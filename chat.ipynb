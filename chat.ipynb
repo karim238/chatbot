{
 "cells": [
  {
   "cell_type": "code",
   "execution_count": 14,
   "id": "aff39ba9",
   "metadata": {},
   "outputs": [],
   "source": [
    "import numpy as np\n",
    "import nltk\n",
    "import random \n",
    "import io\n",
    "import warnings\n",
    "warnings.filterwarnings('ignore')"
   ]
  },
  {
   "cell_type": "code",
   "execution_count": 15,
   "id": "e1a75007",
   "metadata": {},
   "outputs": [
    {
     "name": "stderr",
     "output_type": "stream",
     "text": [
      "[nltk_data] Downloading package punkt to\n",
      "[nltk_data]     C:\\Users\\HP\\AppData\\Roaming\\nltk_data...\n",
      "[nltk_data]   Package punkt is already up-to-date!\n",
      "[nltk_data] Downloading package omw-1.4 to\n",
      "[nltk_data]     C:\\Users\\HP\\AppData\\Roaming\\nltk_data...\n",
      "[nltk_data]   Package omw-1.4 is already up-to-date!\n"
     ]
    }
   ],
   "source": [
    "f=open('D:\\global warming.txt','r')\n",
    "raw=f.read()\n",
    "raw=raw.lower()\n",
    "nltk.download('punkt')\n",
    "nltk.download('omw-1.4')\n",
    "sent_raw=nltk.sent_tokenize(raw)\n",
    "word_raw=nltk.word_tokenize(raw)\n",
    "import string"
   ]
  },
  {
   "cell_type": "code",
   "execution_count": 16,
   "id": "4012b0ac",
   "metadata": {},
   "outputs": [
    {
     "data": {
      "text/plain": [
       "\"[3] greenhouse gases are transparent to sunlight, allowing it through to heat the earth's surface.\""
      ]
     },
     "execution_count": 16,
     "metadata": {},
     "output_type": "execute_result"
    }
   ],
   "source": [
    "sent_raw[5]"
   ]
  },
  {
   "cell_type": "code",
   "execution_count": 17,
   "id": "9c6e3a75",
   "metadata": {},
   "outputs": [
    {
     "data": {
      "text/plain": [
       "['contemporary', 'climate']"
      ]
     },
     "execution_count": 17,
     "metadata": {},
     "output_type": "execute_result"
    }
   ],
   "source": [
    "word_raw[:2]"
   ]
  },
  {
   "cell_type": "code",
   "execution_count": 18,
   "id": "89e2ecd1",
   "metadata": {},
   "outputs": [],
   "source": [
    "lemmer=nltk.stem.WordNetLemmatizer()"
   ]
  },
  {
   "cell_type": "code",
   "execution_count": 19,
   "id": "4c17dd73",
   "metadata": {},
   "outputs": [],
   "source": [
    "def LeemToken(tokens):\n",
    "    return [lemmer.lemmatize(token) for token in tokens]"
   ]
  },
  {
   "cell_type": "code",
   "execution_count": 20,
   "id": "cfc170a2",
   "metadata": {},
   "outputs": [],
   "source": [
    "remove_punc=dict((ord(punct),None)for punct in string.punctuation )"
   ]
  },
  {
   "cell_type": "code",
   "execution_count": 21,
   "id": "52957fad",
   "metadata": {},
   "outputs": [],
   "source": [
    "def lemnormlization(text):\n",
    "    return LeemToken(nltk.word_tokenize(text.lower().translate(remove_punc)))"
   ]
  },
  {
   "cell_type": "code",
   "execution_count": 22,
   "id": "43acc01e",
   "metadata": {},
   "outputs": [],
   "source": [
    "greeting_input=['hello','hi','greeting','sup','hey']\n",
    "greeting_response=['hi','hey','i am glad to see you','welcome']\n",
    "\n",
    "def greeting(sentence):\n",
    "    x=sentence.split()\n",
    "    for word in x:\n",
    "        if word in greeting_input:\n",
    "            return random.choice(greeting_response)"
   ]
  },
  {
   "cell_type": "code",
   "execution_count": 23,
   "id": "5e2a5714",
   "metadata": {},
   "outputs": [],
   "source": [
    "from sklearn.feature_extraction.text import TfidfVectorizer\n",
    "from sklearn.metrics.pairwise import cosine_similarity"
   ]
  },
  {
   "cell_type": "code",
   "execution_count": 24,
   "id": "0eebe51d",
   "metadata": {},
   "outputs": [],
   "source": [
    "def response(user_sentence):\n",
    "    chat_response=''\n",
    "    sent_raw.append(user_sentence)\n",
    "    tfi=TfidfVectorizer(tokenizer=lemnormlization,stop_words='english')\n",
    "\n",
    "    fit=tfi.fit_transform(sent_raw)\n",
    "\n",
    "    val=cosine_similarity(fit[-1],fit)\n",
    "\n",
    "    id=val.argsort()[0][-2]\n",
    "\n",
    "    flat=val.flatten()\n",
    "\n",
    "    flat.sort()\n",
    "    \n",
    "    req=flat[-2]\n",
    "\n",
    "    if req ==0:\n",
    "        chat_response += 'soory i did not understand you'\n",
    "        return chat_response\n",
    "        \n",
    "    else:\n",
    "        chat_response += sent_raw[id]\n",
    "        return chat_response\n",
    "        "
   ]
  },
  {
   "cell_type": "code",
   "execution_count": 25,
   "id": "a0463481",
   "metadata": {},
   "outputs": [
    {
     "name": "stdout",
     "output_type": "stream",
     "text": [
      "hello My name is chatty:i made by kairm and tybe bye to exit \n",
      "ask me about climate change\n",
      "hello\n",
      "chaty:hi\n",
      "what effect of climate change?\n",
      "chaty:the former refers only to increased surface warming, the latter describes the full effect of greenhouse gases on the climate.\n",
      "gases\n",
      "chaty:the former refers only to increased surface warming, the latter describes the full effect of greenhouse gases on the climate.\n",
      "green house \n",
      "chaty:soory i did not understand you\n",
      "greenhouse \n",
      "chaty:the former refers only to increased surface warming, the latter describes the full effect of greenhouse gases on the climate.\n",
      "weather\n",
      "chaty:contemporary climate change includes both global warming and its impacts on earth's weather patterns.\n",
      "bye\n",
      "chaty: good bye nice to talk with you\n"
     ]
    }
   ],
   "source": [
    "flag =True\n",
    "\n",
    "print('hello My name is chatty: and tybe bye to exit ')\n",
    "print('ask me about climate change')\n",
    "\n",
    "while(flag == True):\n",
    "    user_response=input()\n",
    "    user_response=user_response.lower()\n",
    "    if user_response != 'bye':\n",
    "        if user_response == 'thanks' or user_response == 'thank you':\n",
    "            flag == False\n",
    "            print('chaty: you are welcome ')\n",
    "        else:\n",
    "            if greeting(user_response) != None:\n",
    "                print('chaty:'+greeting(user_response))\n",
    "            else:\n",
    "                print('chaty:',end='')\n",
    "                print(response(user_response))\n",
    "                sent_raw.remove(user_response)\n",
    "    else:\n",
    "        flag == False\n",
    "        print('chaty: good bye nice to talk with you')\n",
    "        break "
   ]
  },
  {
   "cell_type": "code",
   "execution_count": null,
   "id": "66d12ab2",
   "metadata": {},
   "outputs": [],
   "source": []
  }
 ],
 "metadata": {
  "kernelspec": {
   "display_name": "Python 3 (ipykernel)",
   "language": "python",
   "name": "python3"
  },
  "language_info": {
   "codemirror_mode": {
    "name": "ipython",
    "version": 3
   },
   "file_extension": ".py",
   "mimetype": "text/x-python",
   "name": "python",
   "nbconvert_exporter": "python",
   "pygments_lexer": "ipython3",
   "version": "3.9.7"
  }
 },
 "nbformat": 4,
 "nbformat_minor": 5
}
